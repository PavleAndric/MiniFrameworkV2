{
 "cells": [
  {
   "cell_type": "code",
   "execution_count": 115,
   "metadata": {},
   "outputs": [
    {
     "name": "stdout",
     "output_type": "stream",
     "text": [
      "first_shape = torch.Size([1, 784]) , second = torch.Size([1, 784]), third = torch.Size([1, 10]), forth = torch.Size([1, 10])\n",
      "tensor([[-0.9027,  0.0973,  0.1060,  0.0999,  0.1019,  0.0990,  0.1023,  0.1004,\n",
      "          0.0972,  0.0987]])\n",
      "\n",
      "\n",
      "\n",
      "first_shape = (1, 784) , second = (1, 784), third = (1, 10), forth = (1, 10)\n",
      "<Tensor = [[-0.90266  0.09734  0.10598  0.0999   0.10189  0.09903  0.10225  0.10044\n",
      "   0.09718  0.09866]]>\n"
     ]
    }
   ],
   "source": [
    "from Tensor import Tensor\n",
    "import numpy as np\n",
    "import torch\n",
    "np.random.seed(100)\n",
    "\n",
    "l1 = (np.random.randn(10,784) * 0.1).astype(np.float32)\n",
    "l2 = (np.random.randn(784,10) * 0.1).astype(np.float32)\n",
    "\n",
    "class MAKI():\n",
    "\n",
    "    def __init__(self):\n",
    "        self.L1 = torch.tensor(l1)                ; self.L1.requires_grad = True \n",
    "        self.L2 = torch.tensor(l2)                 ; self.L1.requires_grad = True\n",
    "\n",
    "    def forward(self, x):\n",
    "        m = torch.nn.ReLU()\n",
    "        self.first = x.matmul(self.L1)                      ; self.first.retain_grad()\n",
    "        self.second = m(self.first)                         ; self.second.retain_grad()\n",
    "        self.third = self.second.matmul(self.L2)            ; self.third.retain_grad()\n",
    "        self.forth = self.third.softmax(1)                  ; self.forth.retain_grad()\n",
    "        #self.out = m(x.matmul(self.L1)).matmul(self.L2).softmax(1) ;self.out.retain_grad()# SOFTMAX  IS BROKEN \n",
    "        return self.forth       \n",
    "\n",
    "target  = torch.Tensor([[1.], [0], [0], [0],[0],[0],[0],[0],[0],[0]])                   ; target.requires_grad = True\n",
    "target = target.T\n",
    "model = MAKI()\n",
    "cigan_1 = (np.random.rand(1,10) *0.2).astype(np.float32)\n",
    "x = torch.tensor(cigan_1)\n",
    "out = model.forward(x)\n",
    "lol = out.log()                         ; lol.retain_grad()\n",
    "lol1 = target * lol                     ;lol1.retain_grad()\n",
    "loss = -(lol1).sum()                    ; loss.retain_grad()        \n",
    "\n",
    "loss.backward()\n",
    "print(f\"first_shape = {model.first.shape} , second = {model.second.shape}, third = {model.third.shape}, forth = {model.forth.shape}\")\n",
    "print(model.third.grad)\n",
    "\n",
    "\n",
    "\n",
    "print()\n",
    "print()\n",
    "print()\n",
    "\n",
    "np.random.seed(100)\n",
    "class NIGGA():\n",
    "\n",
    "    def __init__(self):\n",
    "        self.L1 = Tensor(l1) \n",
    "        self.L2 = Tensor(l2) \n",
    "\n",
    "    def forward(self, x):\n",
    "        self.first = x.dot(self.L1)\n",
    "        self.second = self.first.ReLU()\n",
    "        self.third = self.second.dot(self.L2)\n",
    "        self.forth = self.third.Softmax(1)\n",
    "        return self.forth\n",
    "    \n",
    "np.random.seed(100)\n",
    "model1 = NIGGA()\n",
    "target  = np.array([[1.], [0], [0], [0],[0],[0],[0],[0],[0],[0]])\n",
    "target_net = target.T\n",
    "targettttt = Tensor(target_net)\n",
    "x = Tensor(cigan_1) \n",
    "y = model1.forward(x)                        \n",
    "lol_ = y.log()                         \n",
    "lol1_ = targettttt * lol_                     \n",
    "loss_ = -(lol1_).sum()   \n",
    "loss_.backward()\n",
    "\n",
    "print(f\"first_shape = {model1.first.shape} , second = {model1.second.shape}, third = {model1.third.shape}, forth = {model1.forth.shape}\")\n",
    "print(model1.third.grad)"
   ]
  },
  {
   "cell_type": "code",
   "execution_count": null,
   "metadata": {},
   "outputs": [],
   "source": []
  }
 ],
 "metadata": {
  "kernelspec": {
   "display_name": "Python 3",
   "language": "python",
   "name": "python3"
  },
  "language_info": {
   "codemirror_mode": {
    "name": "ipython",
    "version": 3
   },
   "file_extension": ".py",
   "mimetype": "text/x-python",
   "name": "python",
   "nbconvert_exporter": "python",
   "pygments_lexer": "ipython3",
   "version": "3.9.0"
  },
  "orig_nbformat": 4
 },
 "nbformat": 4,
 "nbformat_minor": 2
}
