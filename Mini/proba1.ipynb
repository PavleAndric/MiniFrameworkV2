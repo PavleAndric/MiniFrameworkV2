{
 "cells": [
  {
   "cell_type": "code",
   "execution_count": 1,
   "metadata": {},
   "outputs": [
    {
     "name": "stderr",
     "output_type": "stream",
     "text": [
      "c:\\Users\\pavle\\AppData\\Local\\Programs\\Python\\Python39\\lib\\site-packages\\tqdm\\auto.py:22: TqdmWarning: IProgress not found. Please update jupyter and ipywidgets. See https://ipywidgets.readthedocs.io/en/stable/user_install.html\n",
      "  from .autonotebook import tqdm as notebook_tqdm\n"
     ]
    }
   ],
   "source": [
    "from Tensor import Tensor\n",
    "import numpy as np \n",
    "import torch"
   ]
  },
  {
   "cell_type": "code",
   "execution_count": 2,
   "metadata": {},
   "outputs": [],
   "source": [
    "np.random.seed(100)\n",
    "x_test = np.random.randn(5,5).astype(np.float32) * 0.1\n",
    "y_test = np.random.randn(5,1).astype(np.float32) * 0.1\n",
    "z_test = np.random.randn(5,1).astype(np.float32) * 0.1 "
   ]
  },
  {
   "cell_type": "code",
   "execution_count": 17,
   "metadata": {},
   "outputs": [],
   "source": [
    "target = np.array([[1.], [0.], [0.], [0.], [0.]]).astype(np.float32)\n",
    "loss_fn = torch.nn.CrossEntropyLoss()\n",
    "target_mini = Tensor((target))\n",
    "target_torch = torch.Tensor(target)\n",
    "\n",
    "target_mini = Tensor(target)\n",
    "a = Tensor(x_test)\n",
    "b = Tensor(y_test)\n",
    "z = Tensor(z_test)\n",
    "first = (a.dot(b) + z)\n",
    "second = first.Softmax(axis = 0)\n",
    "L =  -(target_mini * (second.log())).sum()\n",
    "L.backward()\n",
    "\n",
    "target_torch = torch.Tensor(target)\n",
    "a_ = torch.Tensor(x_test)                                               ;a_.requires_grad = True                                      \n",
    "b_ = torch.Tensor(y_test)                                               ;b_.requires_grad = True\n",
    "z_ = torch.Tensor(z_test)                                               ;z_.requires_grad = True\n",
    "first_ = (a_.matmul(b_) + z_)                                            ; first_.retain_grad()\n",
    "\n",
    "\n",
    "L_ =  loss_fn(first_.squeeze() , target_torch.squeeze())\n",
    "L_.backward()\n",
    "a_grad , b_grad , z_grad = a_.grad.detach().numpy(), b_.grad.detach().numpy(), z_.grad.detach().numpy()\n",
    "\n"
   ]
  },
  {
   "cell_type": "code",
   "execution_count": 19,
   "metadata": {},
   "outputs": [
    {
     "name": "stdout",
     "output_type": "stream",
     "text": [
      "tensor([[-0.7950],\n",
      "        [ 0.1717],\n",
      "        [ 0.1832],\n",
      "        [ 0.2190],\n",
      "        [ 0.2211]])\n",
      "<Tensor = [[-0.79501]\n",
      " [ 0.17172]\n",
      " [ 0.1832 ]\n",
      " [ 0.21902]\n",
      " [ 0.22107]]>\n"
     ]
    }
   ],
   "source": [
    "print(first_.grad)\n",
    "print(first.grad)"
   ]
  },
  {
   "cell_type": "code",
   "execution_count": null,
   "metadata": {},
   "outputs": [],
   "source": []
  }
 ],
 "metadata": {
  "kernelspec": {
   "display_name": "Python 3",
   "language": "python",
   "name": "python3"
  },
  "language_info": {
   "codemirror_mode": {
    "name": "ipython",
    "version": 3
   },
   "file_extension": ".py",
   "mimetype": "text/x-python",
   "name": "python",
   "nbconvert_exporter": "python",
   "pygments_lexer": "ipython3",
   "version": "3.9.0"
  },
  "orig_nbformat": 4
 },
 "nbformat": 4,
 "nbformat_minor": 2
}
