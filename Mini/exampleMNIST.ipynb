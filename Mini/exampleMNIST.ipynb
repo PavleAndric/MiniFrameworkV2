{
 "cells": [
  {
   "cell_type": "code",
   "execution_count": 1,
   "metadata": {},
   "outputs": [
    {
     "name": "stderr",
     "output_type": "stream",
     "text": [
      "c:\\Users\\pavle\\AppData\\Local\\Programs\\Python\\Python39\\lib\\site-packages\\tqdm\\auto.py:22: TqdmWarning: IProgress not found. Please update jupyter and ipywidgets. See https://ipywidgets.readthedocs.io/en/stable/user_install.html\n",
      "  from .autonotebook import tqdm as notebook_tqdm\n"
     ]
    }
   ],
   "source": [
    "import torch    #### OVERFITTING \n",
    "import pandas as pd\n",
    "import numpy as np\n",
    "import matplotlib.pyplot as plt"
   ]
  },
  {
   "cell_type": "code",
   "execution_count": 2,
   "metadata": {},
   "outputs": [],
   "source": [
    "train_data_path = pd.read_csv(r\"C:\\Users\\pavle\\OneDrive\\Desktop\\MNIST from schrach\\csv_train.py.csv\")\n",
    "test_data_path = pd.read_csv(r\"C:\\Users\\pavle\\OneDrive\\Desktop\\MNIST from schrach\\csv_test.py.csv\")"
   ]
  },
  {
   "cell_type": "code",
   "execution_count": 3,
   "metadata": {},
   "outputs": [],
   "source": [
    "np_data = train_data_path.to_numpy().T\n",
    "x_data= np_data[1: 785]\n",
    "y_data = np_data[0]"
   ]
  },
  {
   "cell_type": "code",
   "execution_count": 16,
   "metadata": {},
   "outputs": [
    {
     "name": "stdout",
     "output_type": "stream",
     "text": [
      " train_loss = 0.8, train_acc =  0.764\n",
      " train_loss = 0.253, train_acc =  0.922\n"
     ]
    }
   ],
   "source": [
    "import math\n",
    "from torch.nn.functional import one_hot\n",
    "class Tnet():\n",
    "\n",
    "    def __init__(self):\n",
    "        self.L1 = torch.randn(784, 128) * math.sqrt(1/128)   ;self.L1.requires_grad = True\n",
    "        self.L2 = torch.randn(128, 10)  * math.sqrt(1/10)    ;self.L1.requires_grad = True\n",
    "\n",
    "    def forward(self, x):\n",
    "        o = torch.nn.ReLU()\n",
    "        out = o(x.matmul(self.L1)).matmul(self.L2).softmax(dim = 0)\n",
    "        return out\n",
    "    \n",
    "model_torch = Tnet()   \n",
    "\n",
    "optim = torch.optim.Adam((model_torch.L1, model_torch.L2), lr = 0.001, betas = (0.9, 0.999))\n",
    "epochs = 2\n",
    "\n",
    "X_data = torch.from_numpy(x_data.T[:1000]).float() / 255\n",
    "Y_data = torch.from_numpy(y_data[:1000])\n",
    "\n",
    "loss_list = []\n",
    "loss_fn = torch.nn.CrossEntropyLoss()\n",
    "for ep in range(epochs):\n",
    "\n",
    "    train_acc = 0\n",
    "    train_loss = 0\n",
    "\n",
    "    for x, y in zip(X_data, Y_data):\n",
    "        \n",
    "        logits = model_torch.forward(x)\n",
    "        y  = one_hot(y, 10)\n",
    "        \n",
    "        loss = -(y * torch.log(logits)).sum()\n",
    "        train_loss += loss\n",
    "       \n",
    "        cat = torch.argmax(logits, dim = 0)\n",
    "        acc = (cat == torch.argmax(y)).float().mean()\n",
    "        train_acc += acc\n",
    "\n",
    "        loss.backward()\n",
    "        optim.step()\n",
    "        optim.zero_grad()\n",
    "\n",
    "    train_loss = train_loss / 1000\n",
    "    train_acc = train_acc / 1000\n",
    "    print(f\" train_loss = {round(train_loss.item(), 3)}, train_acc =  {round(train_acc.item(), 3)}\")\n",
    "    \n"
   ]
  },
  {
   "cell_type": "code",
   "execution_count": 17,
   "metadata": {},
   "outputs": [
    {
     "name": "stdout",
     "output_type": "stream",
     "text": [
      "train_loss = 0.825, train_acc = 0.742\n",
      "train_loss = 0.25, train_acc = 0.924\n"
     ]
    }
   ],
   "source": [
    "from  Optimizers import Adam, RMSProp\n",
    "from Tensor import Tensor\n",
    "\n",
    "class MiniNet():\n",
    "\n",
    "    def __init__(self):\n",
    "        self.L1 = Tensor.randn((784, 128)) * math.sqrt(1/ 128)\n",
    "        self.L2 = Tensor.randn((128, 10)) * math.sqrt(1/ 10)\n",
    "\n",
    "    def forward(self, x):\n",
    "        return (x.dot(self.L1).ReLU()).dot(self.L2).Softmax(axis = 0)\n",
    "    \n",
    "\n",
    "X_data_mini = Tensor(x_data.T[:1000] / 255)\n",
    "Y_data_mini = Tensor(y_data[:1000])\n",
    "\n",
    "model_mini = MiniNet()\n",
    "optim_mini  = Adam((model_mini.L1, model_mini.L2), learning_rate = 0.001, betas = (0.9, 0.999))\n",
    "\n",
    "def one_hot(tensor):\n",
    "    x = np.zeros(10)\n",
    "    x[int(tensor.data)] = 1\n",
    "    return Tensor(x)\n",
    "\n",
    "ep = 2\n",
    "for e in range(ep):\n",
    "\n",
    "    train_loss =  0\n",
    "    train_acc = 0\n",
    "\n",
    "    for x, y in zip(X_data_mini, Y_data_mini):\n",
    "        \n",
    "        logits = model_mini.forward(x)\n",
    "        y = one_hot(y)\n",
    "\n",
    "        loss = -(y * logits.log()).sum()\n",
    "        train_loss +=  loss.data\n",
    "        \n",
    "        cat = np.argmax(logits.data, axis = 0)\n",
    "        acc = np.mean((cat == np.argmax(y.data)).astype(np.float32))\n",
    "        train_acc += acc\n",
    "\n",
    "        loss.backward()\n",
    "        optim_mini.step()\n",
    "        optim_mini.zero_grad(loss.ALL_PARAMS)\n",
    "    \n",
    "\n",
    "    train_loss = train_loss / 1000\n",
    "    train_acc = train_acc / 1000\n",
    "\n",
    "    print(f\"train_loss = {round(train_loss, 3)}, train_acc = {round(train_acc, 3)}\")\n",
    "\n"
   ]
  },
  {
   "cell_type": "code",
   "execution_count": null,
   "metadata": {},
   "outputs": [],
   "source": []
  }
 ],
 "metadata": {
  "kernelspec": {
   "display_name": "Python 3",
   "language": "python",
   "name": "python3"
  },
  "language_info": {
   "codemirror_mode": {
    "name": "ipython",
    "version": 3
   },
   "file_extension": ".py",
   "mimetype": "text/x-python",
   "name": "python",
   "nbconvert_exporter": "python",
   "pygments_lexer": "ipython3",
   "version": "3.9.0"
  },
  "orig_nbformat": 4
 },
 "nbformat": 4,
 "nbformat_minor": 2
}
