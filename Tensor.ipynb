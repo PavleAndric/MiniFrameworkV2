{
 "cells": [
  {
   "cell_type": "code",
   "execution_count": 66,
   "metadata": {},
   "outputs": [],
   "source": [
    "import numpy as np\n",
    "import math\n",
    " \n",
    "\n",
    "class Tensor():\n",
    "\n",
    "    def __init__(self, data, _children = ()):\n",
    "\n",
    "        self.data = np.array(data, dtype =np.float32)\n",
    "        self.shape = self.data.shape\n",
    "        self._backward = lambda : None\n",
    "        self.prev = set(_children)\n",
    "        self.grad = 0.0\n",
    "\n",
    "    def __repr__(self):\n",
    "        return f\"<Tensor data = {self.data}>\"\n",
    "    \n",
    "    def shape(self): return self.shape\n",
    "    # -----------------------------------------  binary OPS ----------------------------------------------------\n",
    "    def __add__(self, other):   #addition of Tensor by a int(float) or a Tensror of the same size(element wise)\n",
    "        \n",
    "        other = other if isinstance(other, Tensor) else Tensor(other)\n",
    "        output_T  = Tensor(self.data + other.data, (self,other))\n",
    "\n",
    "        def _backward():\n",
    "            self.grad += output_T.grad  * 1.0  # chain rule \n",
    "            other.grad += output_T.grad * 1.0\n",
    "\n",
    "        output_T._backward = _backward\n",
    "        return output_T\n",
    "\n",
    "    def __mul__(self, other): #multiplication of Tensor by a int(float) or a Tensror of the same size(element wise)\n",
    "\n",
    "        other = other if isinstance(other, Tensor) else Tensor(other)\n",
    "        output_T = Tensor(self.data * other.data,(self, other))\n",
    "\n",
    "        def _backward():\n",
    "            self.grad += (other.data * output_T.grad) \n",
    "            other.grad += (self.data * output_T.grad)\n",
    "    \n",
    "        output_T._backward = _backward\n",
    "        return output_T\n",
    "\n",
    "    def suma(self,axis = None):\n",
    "        output_T = Tensor(self.data.sum(axis = axis))\n",
    "\n",
    "        def _backward():\n",
    "            self.grad = self.data * output_T.grad\n",
    "\n",
    "        output_T._backward = _backward\n",
    "        return output_T \n",
    "        \n",
    "    def backward(self):\n",
    "    \n",
    "        topo = []\n",
    "        visited = set()\n",
    "\n",
    "        def build_topo(v):\n",
    "            if v not in visited:\n",
    "                visited.add(v)\n",
    "                for child in v.prev:\n",
    "                    build_topo(child)\n",
    "                topo.append(v)\n",
    "        build_topo(self)\n",
    "        \n",
    "        self.grad = 1\n",
    "\n",
    "        for node in reversed(topo):\n",
    "            node._backward()"
   ]
  },
  {
   "cell_type": "code",
   "execution_count": 75,
   "metadata": {},
   "outputs": [
    {
     "name": "stdout",
     "output_type": "stream",
     "text": [
      "(2, 1)\n",
      "<Tensor data = [[3.6000001]\n",
      " [1.5      ]]>\n"
     ]
    }
   ],
   "source": [
    "t = Tensor([[0.6],[0.2]])\n",
    "k = Tensor([[1.2],[0.3]])\n",
    "o = Tensor([[2.0],[3.0]])\n",
    "print(t.shape)\n",
    "first  = t+ k\n",
    "second = o * first\n",
    "L = second.suma()\n",
    "print(L)\n"
   ]
  },
  {
   "cell_type": "code",
   "execution_count": 74,
   "metadata": {},
   "outputs": [
    {
     "data": {
      "text/plain": [
       "<Tensor data = [[3.6000001]\n",
       " [1.5      ]]>"
      ]
     },
     "execution_count": 74,
     "metadata": {},
     "output_type": "execute_result"
    }
   ],
   "source": []
  },
  {
   "cell_type": "code",
   "execution_count": null,
   "metadata": {},
   "outputs": [],
   "source": []
  }
 ],
 "metadata": {
  "kernelspec": {
   "display_name": "Python 3",
   "language": "python",
   "name": "python3"
  },
  "language_info": {
   "codemirror_mode": {
    "name": "ipython",
    "version": 3
   },
   "file_extension": ".py",
   "mimetype": "text/x-python",
   "name": "python",
   "nbconvert_exporter": "python",
   "pygments_lexer": "ipython3",
   "version": "3.9.0"
  },
  "orig_nbformat": 4,
  "vscode": {
   "interpreter": {
    "hash": "75daff32a5d0a89c32da8fe186cc95eda36c57939ef32a1dc2d40fa77430b921"
   }
  }
 },
 "nbformat": 4,
 "nbformat_minor": 2
}
